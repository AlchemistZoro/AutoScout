{
 "metadata": {
  "language_info": {
   "codemirror_mode": {
    "name": "ipython",
    "version": 3
   },
   "file_extension": ".py",
   "mimetype": "text/x-python",
   "name": "python",
   "nbconvert_exporter": "python",
   "pygments_lexer": "ipython3",
   "version": "3.6.12-final"
  },
  "orig_nbformat": 2,
  "kernelspec": {
   "name": "python3",
   "display_name": "Python 3.6.12 64-bit ('p36': conda)",
   "metadata": {
    "interpreter": {
     "hash": "50dd7649bbc17c5ee0f0f1158d0f9f01c90f302d2d18d1bc8e4eda6cfd341096"
    }
   }
  }
 },
 "nbformat": 4,
 "nbformat_minor": 2,
 "cells": [
  {
   "cell_type": "code",
   "execution_count": 2,
   "metadata": {},
   "outputs": [],
   "source": [
    "import requests\n",
    "from bs4 import BeautifulSoup\n",
    "import json as json"
   ]
  },
  {
   "cell_type": "code",
   "execution_count": 3,
   "metadata": {},
   "outputs": [],
   "source": [
    "def find_url(num):\n",
    "    print('开始爬取页面数量')\n",
    "    left = 0\n",
    "    mid = 80000\n",
    "    right = 160000  # 这三个数据定义的目的是\n",
    "    p = mid\n",
    "    for k in range(0, 50000):\n",
    "        time.sleep(0.2)\n",
    "        dis = right - left\n",
    "        r = requests.get(\n",
    "            'https://api.bilibili.com/x/web-interface/newlist?&rid={}&type=0&pn={}&ps=50&jsonp=jsonp'.format(num, p))\n",
    "        r.encoding = r.apparent_encoding\n",
    "        data = json.loads(r.text)\n",
    "        # print(left, mid, right)\n",
    "        if len(data['data']['archives']):  # 判断第P页是否有数据\n",
    "            right = right\n",
    "            left = mid\n",
    "            p = int((right + mid) / 2)\n",
    "            mid = p  \n",
    "        else:\n",
    "            left = left\n",
    "            right = mid\n",
    "            p = int((left + mid) / 2)\n",
    "            mid = p\n",
    "        if len(data['data']['archives']) and dis < 2:  # 第P页有数据且“头尾”只差1，结束判断，得到页码\n",
    "            print('aid:{},页数:{},数量:{}'.format(num, p, p * 50))\n",
    "            break\n",
    "    print('页面数量爬取结束')\n",
    "    print('--开始生成URL池--')\n",
    "    Url_Pool = []\n",
    "    for m in range(0, p):\n",
    "        url = \"https://api.bilibili.com/x/web-interface/newlist?&rid={}&type=0&pn={}&ps=50&jsonp=jsonp\".format(\n",
    "            num, m)\n",
    "        Url_Pool.append(url)\n",
    "    print('--URL池生成结束--')\n",
    "    return Url_Pool"
   ]
  },
  {
   "cell_type": "code",
   "execution_count": 4,
   "metadata": {},
   "outputs": [],
   "source": [
    "num=1\n",
    "p=1\n",
    "r = requests.get('https://api.bilibili.com/x/web-interface/newlist?&rid={}&type=0&pn={}&ps=50&jsonp=jsonp'.format(num, p))\n",
    "r.encoding = r.apparent_encoding\n",
    "data = json.loads(r.text)"
   ]
  },
  {
   "cell_type": "code",
   "execution_count": 5,
   "metadata": {},
   "outputs": [],
   "source": [
    "for k in range(0, len(data['data']['archives'])):\n",
    "    aid = data['data']['archives'][k]['aid']\n",
    "    title = data['data']['archives'][k]['title'].replace('\"', '').replace(\"'\", '')\n",
    "    title = eval(repr(title).replace('\\\\', ''))\n",
    "    duration = data['data']['archives'][k]['duration']\n",
    "    up_id = data['data']['archives'][k]['owner']['mid']\n",
    "    up_name = data['data']['archives'][k]['owner']['name']\n",
    "    pubdate = data['data']['archives'][k]['pubdate']\n",
    "    coin = data['data']['archives'][k]['stat']['coin']\n",
    "    dan = data['data']['archives'][k]['stat']['danmaku']\n",
    "    star = data['data']['archives'][k]['stat']['favorite']\n",
    "    his_rank = data['data']['archives'][k]['stat']['his_rank']\n",
    "    like = data['data']['archives'][k]['stat']['like']\n",
    "    reply = data['data']['archives'][k]['stat']['reply']\n",
    "    share = data['data']['archives'][k]['stat']['share']\n",
    "    view = data['data']['archives'][k]['stat']['view']\n",
    "    category = data['data']['archives'][k]['tname']\n",
    "    key_words = data['data']['archives'][k]['dynamic'].replace('\"', '').replace(\"'\", '')"
   ]
  },
  {
   "cell_type": "code",
   "execution_count": 7,
   "metadata": {},
   "outputs": [
    {
     "output_type": "execute_result",
     "data": {
      "text/plain": [
       "50"
      ]
     },
     "metadata": {},
     "execution_count": 7
    }
   ],
   "source": [
    "# with open('data.json', 'w',encoding='utf-8') as f:\n",
    "len(data['data']['archives'])0"
   ]
  },
  {
   "cell_type": "code",
   "execution_count": 10,
   "metadata": {},
   "outputs": [],
   "source": [
    "num=23215368\n",
    "r = requests.get('http://api.bilibili.com/x/space/top/arc?vmid={}&jsonp=jsonp'.format(num))\n",
    "r.encoding = r.apparent_encoding\n",
    "data = json.loads(r.text)"
   ]
  },
  {
   "cell_type": "code",
   "execution_count": 8,
   "metadata": {},
   "outputs": [],
   "source": [
    "num=7866907\n",
    "r = requests.get('http://api.bilibili.com/x/space/top/arc?vmid={}&jsonp=jsonp'.format(num))\n",
    "r.encoding = r.apparent_encoding\n",
    "data = json.loads(r.text)"
   ]
  },
  {
   "cell_type": "code",
   "execution_count": 11,
   "metadata": {},
   "outputs": [
    {
     "output_type": "execute_result",
     "data": {
      "text/plain": [
       "{'code': 0,\n",
       " 'data': {'aid': 37896701,\n",
       "  'bvid': 'BV18t411q7zz',\n",
       "  'cid': 66621209,\n",
       "  'copyright': 1,\n",
       "  'ctime': 1544469671,\n",
       "  'desc': '各品牌的手机铃声大合奏，毫无违和感~',\n",
       "  'dimension': {'height': 1080, 'rotate': 0, 'width': 1920},\n",
       "  'duration': 208,\n",
       "  'dynamic': '#编曲##FL##纯音乐#',\n",
       "  'inter_video': False,\n",
       "  'owner': {'face': 'http://i0.hdslb.com/bfs/face/7c9715f1768191137eb7ebf91918ca0f99532012.jpg',\n",
       "   'mid': 23215368,\n",
       "   'name': 'Wayjon冰冰酱'},\n",
       "  'pic': 'http://i2.hdslb.com/bfs/archive/cc9e72822d68fffdd0406144f1b5348a13c89652.jpg',\n",
       "  'pubdate': 1544469671,\n",
       "  'reason': '',\n",
       "  'rights': {'autoplay': 1,\n",
       "   'bp': 0,\n",
       "   'download': 0,\n",
       "   'elec': 0,\n",
       "   'hd5': 1,\n",
       "   'is_cooperation': 0,\n",
       "   'movie': 0,\n",
       "   'no_background': 0,\n",
       "   'no_reprint': 1,\n",
       "   'pay': 0,\n",
       "   'ugc_pay': 0,\n",
       "   'ugc_pay_preview': 0},\n",
       "  'short_link': 'https://b23.tv/BV18t411q7zz',\n",
       "  'stat': {'aid': 37896701,\n",
       "   'coin': 107830,\n",
       "   'danmaku': 20272,\n",
       "   'dislike': 0,\n",
       "   'favorite': 83970,\n",
       "   'his_rank': 0,\n",
       "   'like': 103307,\n",
       "   'now_rank': 0,\n",
       "   'reply': 3970,\n",
       "   'share': 18052,\n",
       "   'view': 1289558},\n",
       "  'state': 0,\n",
       "  'tid': 28,\n",
       "  'title': '燃烧吧！铃声！把主流手机铃声编成一首曲子',\n",
       "  'tname': '原创音乐',\n",
       "  'videos': 1},\n",
       " 'message': '0',\n",
       " 'ttl': 1}"
      ]
     },
     "metadata": {},
     "execution_count": 11
    }
   ],
   "source": [
    "data\n"
   ]
  },
  {
   "cell_type": "code",
   "execution_count": null,
   "metadata": {},
   "outputs": [],
   "source": []
  }
 ]
}